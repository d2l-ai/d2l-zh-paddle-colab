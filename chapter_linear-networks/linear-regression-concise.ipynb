{
 "cells": [
  {
   "cell_type": "markdown",
   "id": "6ed07a8a",
   "metadata": {},
   "source": [
    "The following additional libraries are needed to run this\n",
    "notebook. Note that running on Colab is experimental, please report a Github\n",
    "issue if you have any problem."
   ]
  },
  {
   "cell_type": "code",
   "execution_count": null,
   "id": "7aa41eee",
   "metadata": {},
   "outputs": [],
   "source": [
    "!pip install git+https://github.com/d2l-ai/d2l-zh@release  # installing d2l\n"
   ]
  },
  {
   "cell_type": "markdown",
   "id": "df4a75f8",
   "metadata": {
    "origin_pos": 0
   },
   "source": [
    "# 线性回归的简洁实现\n",
    ":label:`sec_linear_concise`\n",
    "\n",
    "在过去的几年里，出于对深度学习强烈的兴趣，\n",
    "许多公司、学者和业余爱好者开发了各种成熟的开源框架。\n",
    "这些框架可以自动化基于梯度的学习算法中重复性的工作。\n",
    "在 :numref:`sec_linear_scratch`中，我们只运用了：\n",
    "（1）通过张量来进行数据存储和线性代数；\n",
    "（2）通过自动微分来计算梯度。\n",
    "实际上，由于数据迭代器、损失函数、优化器和神经网络层很常用，\n",
    "现代深度学习库也为我们实现了这些组件。\n",
    "\n",
    "本节将介绍如何(**通过使用深度学习框架来简洁地实现**)\n",
    " :numref:`sec_linear_scratch`中的(**线性回归模型**)。\n",
    "\n",
    "## 生成数据集\n",
    "\n",
    "与 :numref:`sec_linear_scratch`中类似，我们首先[**生成数据集**]。\n"
   ]
  },
  {
   "cell_type": "code",
   "execution_count": 1,
   "id": "8e99643b",
   "metadata": {
    "execution": {
     "iopub.execute_input": "2023-08-14T21:06:50.788015Z",
     "iopub.status.busy": "2023-08-14T21:06:50.787308Z",
     "iopub.status.idle": "2023-08-14T21:06:52.839209Z",
     "shell.execute_reply": "2023-08-14T21:06:52.838048Z"
    },
    "origin_pos": 4,
    "tab": [
     "paddle"
    ]
   },
   "outputs": [],
   "source": [
    "import warnings\n",
    "from d2l import paddle as d2l\n",
    "\n",
    "warnings.filterwarnings(\"ignore\")\n",
    "import numpy as np\n",
    "import paddle"
   ]
  },
  {
   "cell_type": "code",
   "execution_count": 2,
   "id": "7500e4b9",
   "metadata": {
    "execution": {
     "iopub.execute_input": "2023-08-14T21:06:52.843724Z",
     "iopub.status.busy": "2023-08-14T21:06:52.842864Z",
     "iopub.status.idle": "2023-08-14T21:06:53.045456Z",
     "shell.execute_reply": "2023-08-14T21:06:53.044464Z"
    },
    "origin_pos": 5,
    "tab": [
     "paddle"
    ]
   },
   "outputs": [],
   "source": [
    "true_w = paddle.to_tensor([2, -3.4])\n",
    "true_b = 4.2\n",
    "features, labels = d2l.synthetic_data(true_w, true_b, 1000)"
   ]
  },
  {
   "cell_type": "markdown",
   "id": "13f750d1",
   "metadata": {
    "origin_pos": 6
   },
   "source": [
    "## 读取数据集\n",
    "\n",
    "我们可以[**调用框架中现有的API来读取数据**]。\n",
    "我们将`features`和`labels`作为API的参数传递，并通过数据迭代器指定`batch_size`。\n",
    "此外，布尔值`is_train`表示是否希望数据迭代器对象在每个迭代周期内打乱数据。\n"
   ]
  },
  {
   "cell_type": "code",
   "execution_count": 3,
   "id": "0e932738",
   "metadata": {
    "execution": {
     "iopub.execute_input": "2023-08-14T21:06:53.048930Z",
     "iopub.status.busy": "2023-08-14T21:06:53.048447Z",
     "iopub.status.idle": "2023-08-14T21:06:53.053673Z",
     "shell.execute_reply": "2023-08-14T21:06:53.052825Z"
    },
    "origin_pos": 10,
    "tab": [
     "paddle"
    ]
   },
   "outputs": [],
   "source": [
    "#@save\n",
    "def load_array(data_arrays, batch_size, is_train=True):\n",
    "    \"\"\"构造一个Paddle数据迭代器\"\"\"\n",
    "    dataset = paddle.io.TensorDataset(data_arrays)\n",
    "    return paddle.io.DataLoader(dataset, batch_size=batch_size,\n",
    "                                shuffle=is_train,\n",
    "                                return_list=True)"
   ]
  },
  {
   "cell_type": "code",
   "execution_count": 4,
   "id": "ad189010",
   "metadata": {
    "execution": {
     "iopub.execute_input": "2023-08-14T21:06:53.057005Z",
     "iopub.status.busy": "2023-08-14T21:06:53.056470Z",
     "iopub.status.idle": "2023-08-14T21:06:53.060493Z",
     "shell.execute_reply": "2023-08-14T21:06:53.059689Z"
    },
    "origin_pos": 11,
    "tab": [
     "paddle"
    ]
   },
   "outputs": [],
   "source": [
    "batch_size = 10\n",
    "data_iter = load_array((features, labels), batch_size)"
   ]
  },
  {
   "cell_type": "markdown",
   "id": "d1e66bd2",
   "metadata": {
    "origin_pos": 12
   },
   "source": [
    "使用`data_iter`的方式与我们在 :numref:`sec_linear_scratch`中使用`data_iter`函数的方式相同。为了验证是否正常工作，让我们读取并打印第一个小批量样本。\n",
    "与 :numref:`sec_linear_scratch`不同，这里我们使用`iter`构造Python迭代器，并使用`next`从迭代器中获取第一项。\n"
   ]
  },
  {
   "cell_type": "code",
   "execution_count": 5,
   "id": "f2b8fdf6",
   "metadata": {
    "execution": {
     "iopub.execute_input": "2023-08-14T21:06:53.063875Z",
     "iopub.status.busy": "2023-08-14T21:06:53.063365Z",
     "iopub.status.idle": "2023-08-14T21:06:53.074848Z",
     "shell.execute_reply": "2023-08-14T21:06:53.073641Z"
    },
    "origin_pos": 13,
    "tab": [
     "paddle"
    ]
   },
   "outputs": [
    {
     "data": {
      "text/plain": [
       "[Tensor(shape=[10, 2], dtype=float32, place=Place(cpu), stop_gradient=True,\n",
       "        [[-0.01167123,  0.46843269],\n",
       "         [ 0.37603298,  1.84111845],\n",
       "         [-0.10115882,  0.83281630],\n",
       "         [ 0.46866027,  0.42302439],\n",
       "         [ 0.30322662,  0.69297421],\n",
       "         [ 0.95370865,  0.96415317],\n",
       "         [-0.09559648, -0.92256993],\n",
       "         [ 1.18786943,  0.81521869],\n",
       "         [-0.38677609, -0.59968549],\n",
       "         [-0.14282981,  0.12848610]]),\n",
       " Tensor(shape=[10, 1], dtype=float32, place=Place(cpu), stop_gradient=True,\n",
       "        [[ 2.57693124],\n",
       "         [-1.31759048],\n",
       "         [ 1.18672943],\n",
       "         [ 3.68762207],\n",
       "         [ 2.43781567],\n",
       "         [ 2.82700205],\n",
       "         [ 7.14477682],\n",
       "         [ 3.80898476],\n",
       "         [ 5.45201540],\n",
       "         [ 3.48874235]])]"
      ]
     },
     "execution_count": 5,
     "metadata": {},
     "output_type": "execute_result"
    }
   ],
   "source": [
    "next(iter(data_iter))"
   ]
  },
  {
   "cell_type": "markdown",
   "id": "48cab4c2",
   "metadata": {
    "origin_pos": 14
   },
   "source": [
    "## 定义模型\n",
    "\n",
    "当我们在 :numref:`sec_linear_scratch`中实现线性回归时，\n",
    "我们明确定义了模型参数变量，并编写了计算的代码，这样通过基本的线性代数运算得到输出。\n",
    "但是，如果模型变得更加复杂，且当我们几乎每天都需要实现模型时，自然会想简化这个过程。\n",
    "这种情况类似于为自己的博客从零开始编写网页。\n",
    "做一两次是有益的，但如果每个新博客就需要工程师花一个月的时间重新开始编写网页，那并不高效。\n",
    "\n",
    "对于标准深度学习模型，我们可以[**使用框架的预定义好的层**]。这使我们只需关注使用哪些层来构造模型，而不必关注层的实现细节。\n",
    "我们首先定义一个模型变量`net`，它是一个`Sequential`类的实例。\n",
    "`Sequential`类将多个层串联在一起。\n",
    "当给定输入数据时，`Sequential`实例将数据传入到第一层，\n",
    "然后将第一层的输出作为第二层的输入，以此类推。\n",
    "在下面的例子中，我们的模型只包含一个层，因此实际上不需要`Sequential`。\n",
    "但是由于以后几乎所有的模型都是多层的，在这里使用`Sequential`会让你熟悉“标准的流水线”。\n",
    "\n",
    "回顾 :numref:`fig_single_neuron`中的单层网络架构，\n",
    "这一单层被称为*全连接层*（fully-connected layer），\n",
    "因为它的每一个输入都通过矩阵-向量乘法得到它的每个输出。\n"
   ]
  },
  {
   "cell_type": "markdown",
   "id": "2a9cf4d3",
   "metadata": {
    "origin_pos": 18,
    "tab": [
     "paddle"
    ]
   },
   "source": [
    "在PaddlePaddle中，全连接层在`Linear`类中定义。\n",
    "值得注意的是，我们将两个参数传递到`nn.Linear`中。\n",
    "第一个指定输入特征形状，即2，第二个指定输出特征形状，输出特征形状为单个标量，因此为1。\n"
   ]
  },
  {
   "cell_type": "code",
   "execution_count": 6,
   "id": "139528ef",
   "metadata": {
    "execution": {
     "iopub.execute_input": "2023-08-14T21:06:53.079392Z",
     "iopub.status.busy": "2023-08-14T21:06:53.078762Z",
     "iopub.status.idle": "2023-08-14T21:06:53.083813Z",
     "shell.execute_reply": "2023-08-14T21:06:53.082989Z"
    },
    "origin_pos": 22,
    "tab": [
     "paddle"
    ]
   },
   "outputs": [],
   "source": [
    "# nn是神经网络的缩写\n",
    "from paddle import nn\n",
    "\n",
    "net = nn.Sequential(nn.Linear(2, 1))"
   ]
  },
  {
   "cell_type": "markdown",
   "id": "e9633d4d",
   "metadata": {
    "origin_pos": 23
   },
   "source": [
    "## (**初始化模型参数**)\n",
    "\n",
    "在使用`net`之前，我们需要初始化模型参数。\n",
    "如在线性回归模型中的权重和偏置。\n",
    "深度学习框架通常有预定义的方法来初始化参数。\n",
    "在这里，我们指定每个权重参数应该从均值为0、标准差为0.01的正态分布中随机采样，\n",
    "偏置参数将初始化为零。\n"
   ]
  },
  {
   "cell_type": "markdown",
   "id": "b98f1794",
   "metadata": {
    "origin_pos": 27,
    "tab": [
     "paddle"
    ]
   },
   "source": [
    "正如我们在构造`nn.Linear`时指定输入和输出尺寸一样，\n",
    "现在我们能直接访问参数以设定它们的初始值。 \n",
    "我们通过`net[0]`选择网络中的第一个图层，\n",
    "然后使用`weight`和`bias`方法访问参数。\n",
    "我们可以通过调用`nn.initializer.Normal(0, 0.01)`来指定初始化权重的方法。\n",
    "默认情况下，偏置参数初始化为零。\n"
   ]
  },
  {
   "cell_type": "code",
   "execution_count": 7,
   "id": "8a5ff8ab",
   "metadata": {
    "execution": {
     "iopub.execute_input": "2023-08-14T21:06:53.087557Z",
     "iopub.status.busy": "2023-08-14T21:06:53.087025Z",
     "iopub.status.idle": "2023-08-14T21:06:53.092342Z",
     "shell.execute_reply": "2023-08-14T21:06:53.091608Z"
    },
    "origin_pos": 31,
    "tab": [
     "paddle"
    ]
   },
   "outputs": [],
   "source": [
    "weight_attr = paddle.ParamAttr(initializer=\n",
    "                               paddle.nn.initializer.Normal(0, 0.01))\n",
    "bias_attr = paddle.ParamAttr(initializer=None)\n",
    "net = nn.Sequential(nn.Linear(2, 1, weight_attr=weight_attr,\n",
    "                              bias_attr=bias_attr))"
   ]
  },
  {
   "cell_type": "markdown",
   "id": "59691dfa",
   "metadata": {
    "origin_pos": 35
   },
   "source": [
    "## 定义损失函数\n"
   ]
  },
  {
   "cell_type": "markdown",
   "id": "7010ff61",
   "metadata": {
    "origin_pos": 39,
    "tab": [
     "paddle"
    ]
   },
   "source": [
    "[**计算均方误差使用的是`MSELoss`类，也称为平方$L_2$范数**]。\n",
    "默认情况下，它返回所有样本损失的平均值。\n"
   ]
  },
  {
   "cell_type": "code",
   "execution_count": 8,
   "id": "7e3cac60",
   "metadata": {
    "execution": {
     "iopub.execute_input": "2023-08-14T21:06:53.096400Z",
     "iopub.status.busy": "2023-08-14T21:06:53.095727Z",
     "iopub.status.idle": "2023-08-14T21:06:53.099677Z",
     "shell.execute_reply": "2023-08-14T21:06:53.098872Z"
    },
    "origin_pos": 43,
    "tab": [
     "paddle"
    ]
   },
   "outputs": [],
   "source": [
    "loss = nn.MSELoss()"
   ]
  },
  {
   "cell_type": "markdown",
   "id": "b8c63b74",
   "metadata": {
    "origin_pos": 44
   },
   "source": [
    "## 定义优化算法\n"
   ]
  },
  {
   "cell_type": "markdown",
   "id": "26f11844",
   "metadata": {
    "origin_pos": 48,
    "tab": [
     "paddle"
    ]
   },
   "source": [
    "小批量随机梯度下降算法是一种优化神经网络的标准工具，\n",
    "PaddlePaddle在`optimizer`模块中实现了该算法的许多变种。\n",
    "小批量随机梯度下降只需要设置`learning_rate`值，这里设置为0.03。\n"
   ]
  },
  {
   "cell_type": "code",
   "execution_count": 9,
   "id": "48b9a892",
   "metadata": {
    "execution": {
     "iopub.execute_input": "2023-08-14T21:06:53.103867Z",
     "iopub.status.busy": "2023-08-14T21:06:53.103219Z",
     "iopub.status.idle": "2023-08-14T21:06:53.107383Z",
     "shell.execute_reply": "2023-08-14T21:06:53.106517Z"
    },
    "origin_pos": 52,
    "tab": [
     "paddle"
    ]
   },
   "outputs": [],
   "source": [
    "trainer =  paddle.optimizer.SGD(learning_rate=0.03,\n",
    "                                parameters=net.parameters())"
   ]
  },
  {
   "cell_type": "markdown",
   "id": "2ca0bfb0",
   "metadata": {
    "origin_pos": 53
   },
   "source": [
    "## 训练\n",
    "\n",
    "通过深度学习框架的高级API来实现我们的模型只需要相对较少的代码。\n",
    "我们不必单独分配参数、不必定义我们的损失函数，也不必手动实现小批量随机梯度下降。\n",
    "当我们需要更复杂的模型时，高级API的优势将大大增加。\n",
    "当我们有了所有的基本组件，[**训练过程代码与我们从零开始实现时所做的非常相似**]。\n",
    "\n",
    "回顾一下：在每个迭代周期里，我们将完整遍历一次数据集（`train_data`），\n",
    "不停地从中获取一个小批量的输入和相应的标签。\n",
    "对于每一个小批量，我们会进行以下步骤:\n",
    "\n",
    "* 通过调用`net(X)`生成预测并计算损失`l`（前向传播）。\n",
    "* 通过进行反向传播来计算梯度。\n",
    "* 通过调用优化器来更新模型参数。\n",
    "\n",
    "为了更好的衡量训练效果，我们计算每个迭代周期后的损失，并打印它来监控训练过程。\n"
   ]
  },
  {
   "cell_type": "code",
   "execution_count": 10,
   "id": "fdd66232",
   "metadata": {
    "execution": {
     "iopub.execute_input": "2023-08-14T21:06:53.111438Z",
     "iopub.status.busy": "2023-08-14T21:06:53.110795Z",
     "iopub.status.idle": "2023-08-14T21:06:53.585273Z",
     "shell.execute_reply": "2023-08-14T21:06:53.584196Z"
    },
    "origin_pos": 57,
    "tab": [
     "paddle"
    ]
   },
   "outputs": [
    {
     "name": "stdout",
     "output_type": "stream",
     "text": [
      "epoch 1,loss Tensor(shape=[1], dtype=float32, place=Place(cpu), stop_gradient=False,\n",
      "       [0.00028613])\n",
      "epoch 2,loss Tensor(shape=[1], dtype=float32, place=Place(cpu), stop_gradient=False,\n",
      "       [0.00009990])\n"
     ]
    },
    {
     "name": "stdout",
     "output_type": "stream",
     "text": [
      "epoch 3,loss Tensor(shape=[1], dtype=float32, place=Place(cpu), stop_gradient=False,\n",
      "       [0.00009904])\n"
     ]
    }
   ],
   "source": [
    "num_epochs = 3\n",
    "for epoch in range(num_epochs):\n",
    "    for i,(X, y) in enumerate (data_iter()):\n",
    "        l = loss(net(X) ,y)\n",
    "        trainer.clear_grad()\n",
    "        l.backward()\n",
    "        trainer.step()\n",
    "    l = loss(net(features), labels)\n",
    "    print(f'epoch {epoch + 1},'f'loss {l}')"
   ]
  },
  {
   "cell_type": "markdown",
   "id": "391ca6b5",
   "metadata": {
    "origin_pos": 58
   },
   "source": [
    "下面我们[**比较生成数据集的真实参数和通过有限数据训练获得的模型参数**]。\n",
    "要访问参数，我们首先从`net`访问所需的层，然后读取该层的权重和偏置。\n",
    "正如在从零开始实现中一样，我们估计得到的参数与生成数据的真实参数非常接近。\n"
   ]
  },
  {
   "cell_type": "code",
   "execution_count": 11,
   "id": "1a814036",
   "metadata": {
    "execution": {
     "iopub.execute_input": "2023-08-14T21:06:53.589476Z",
     "iopub.status.busy": "2023-08-14T21:06:53.588855Z",
     "iopub.status.idle": "2023-08-14T21:06:53.595515Z",
     "shell.execute_reply": "2023-08-14T21:06:53.594472Z"
    },
    "origin_pos": 62,
    "tab": [
     "paddle"
    ]
   },
   "outputs": [
    {
     "name": "stdout",
     "output_type": "stream",
     "text": [
      "w的估计误差： Tensor(shape=[2], dtype=float32, place=Place(cpu), stop_gradient=False,\n",
      "       [ 0.00039577, -0.00003195])\n",
      "b的估计误差： Tensor(shape=[1], dtype=float32, place=Place(cpu), stop_gradient=False,\n",
      "       [0.00022173])\n"
     ]
    }
   ],
   "source": [
    "w = net[0].weight\n",
    "print('w的估计误差：', true_w - w.reshape(true_w.shape))\n",
    "b = net[0].bias\n",
    "print('b的估计误差：', true_b - b)"
   ]
  },
  {
   "cell_type": "markdown",
   "id": "da44e4df",
   "metadata": {
    "origin_pos": 63
   },
   "source": [
    "## 小结\n"
   ]
  },
  {
   "cell_type": "markdown",
   "id": "323e6d48",
   "metadata": {
    "origin_pos": 67
   },
   "source": [
    "## 练习\n",
    "\n",
    "1. 如果将小批量的总损失替换为小批量损失的平均值，需要如何更改学习率？\n",
    "1. 查看深度学习框架文档，它们提供了哪些损失函数和初始化方法？用Huber损失代替原损失，即\n",
    "    $$l(y,y') = \\begin{cases}|y-y'| -\\frac{\\sigma}{2} & \\text{ if } |y-y'| > \\sigma \\\\ \\frac{1}{2 \\sigma} (y-y')^2 & \\text{ 其它情况}\\end{cases}$$\n",
    "1. 如何访问线性回归的梯度？\n"
   ]
  },
  {
   "cell_type": "markdown",
   "id": "64d2a697",
   "metadata": {
    "origin_pos": 71,
    "tab": [
     "paddle"
    ]
   },
   "source": [
    "[Discussions](https://discuss.d2l.ai/t/11690)\n"
   ]
  }
 ],
 "metadata": {
  "kernelspec": {
   "display_name": "Python 3",
   "name": "python3"
  },
  "language_info": {
   "name": "python"
  },
  "required_libs": []
 },
 "nbformat": 4,
 "nbformat_minor": 5
}